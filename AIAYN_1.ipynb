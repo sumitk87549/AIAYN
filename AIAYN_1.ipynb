{
  "nbformat": 4,
  "nbformat_minor": 0,
  "metadata": {
    "colab": {
      "provenance": [],
      "gpuType": "T4",
      "authorship_tag": "ABX9TyPaTEpusKrkEFafMRt1jFTk",
      "include_colab_link": true
    },
    "kernelspec": {
      "name": "python3",
      "display_name": "Python 3"
    },
    "language_info": {
      "name": "python"
    },
    "accelerator": "GPU"
  },
  "cells": [
    {
      "cell_type": "markdown",
      "metadata": {
        "id": "view-in-github",
        "colab_type": "text"
      },
      "source": [
        "<a href=\"https://colab.research.google.com/github/sumitk87549/AIAYN/blob/main/AIAYN_1.ipynb\" target=\"_parent\"><img src=\"https://colab.research.google.com/assets/colab-badge.svg\" alt=\"Open In Colab\"/></a>"
      ]
    },
    {
      "cell_type": "code",
      "execution_count": null,
      "metadata": {
        "colab": {
          "base_uri": "https://localhost:8080/"
        },
        "id": "cacoVokSWVqo",
        "outputId": "3bf77efc-e695-4e62-b1a0-0f14a3335423"
      },
      "outputs": [
        {
          "output_type": "stream",
          "name": "stdout",
          "text": [
            "cuda\n"
          ]
        }
      ],
      "source": [
        "import torch\n",
        "import torch.nn as nn\n",
        "from torch.nn import functional as F\n",
        "\n",
        "device = 'cuda' if torch.cuda.is_available() else 'cpu'\n",
        "print(device)"
      ]
    },
    {
      "cell_type": "code",
      "source": [
        "block_size = 8\n",
        "batch_size = 4\n",
        "max_iters = 1000\n",
        "learning_rate = 3e-3\n",
        "eval_iters = 250\n",
        "n_embed = 384\n",
        "n_head = 4\n",
        "n_layer = 4\n",
        "dropout = 0.2\n"
      ],
      "metadata": {
        "id": "NBj-JRGyWh-3"
      },
      "execution_count": null,
      "outputs": []
    },
    {
      "cell_type": "code",
      "source": [
        "from google.colab import drive\n",
        "drive.mount('/content/drive')"
      ],
      "metadata": {
        "colab": {
          "base_uri": "https://localhost:8080/"
        },
        "id": "WB2fL8TQXuLG",
        "outputId": "65593b58-e2ae-431a-94e5-19f423782d19"
      },
      "execution_count": null,
      "outputs": [
        {
          "output_type": "stream",
          "name": "stdout",
          "text": [
            "Drive already mounted at /content/drive; to attempt to forcibly remount, call drive.mount(\"/content/drive\", force_remount=True).\n"
          ]
        }
      ]
    },
    {
      "cell_type": "code",
      "source": [
        "with open(\"/content/drive/MyDrive/Assets/wizard_of_oz.txt\", 'r', encoding='utf-8') as f:\n",
        "  text = f.read()\n",
        "  chars = sorted(list(set(text)))\n",
        "\n",
        "vocab_size = len(chars)"
      ],
      "metadata": {
        "id": "VQ82KWvPXnJd"
      },
      "execution_count": null,
      "outputs": []
    },
    {
      "cell_type": "code",
      "source": [
        "string_to_int = { ch:i for i,ch in enumerate(chars)}\n",
        "int_to_string = { i:ch for i,ch in enumerate(chars)}\n",
        "encode = lambda s: [string_to_int[c] for c in s]\n",
        "decode = lambda l: [int_to_string[i] for i in l]\n",
        "\n",
        "data = torch.tensor(encode(text), dtype=torch.long)\n",
        "\n"
      ],
      "metadata": {
        "id": "ogXxHhCTY4mB"
      },
      "execution_count": null,
      "outputs": []
    },
    {
      "cell_type": "code",
      "source": [
        "data[:10]"
      ],
      "metadata": {
        "id": "q-iSe37AoGvF",
        "outputId": "ca85b15d-026a-47cb-b9cc-1421e8f0469f",
        "colab": {
          "base_uri": "https://localhost:8080/"
        }
      },
      "execution_count": null,
      "outputs": [
        {
          "output_type": "execute_result",
          "data": {
            "text/plain": [
              "tensor([80,  1,  1, 28, 39, 42, 39, 44, 32, 49])"
            ]
          },
          "metadata": {},
          "execution_count": 32
        }
      ]
    },
    {
      "cell_type": "code",
      "source": [
        "n = int(0.8*len(data))\n",
        "# The first 80% of the data becomes the training set.\n",
        "train_data = data[:n]\n",
        "# The remaining 20% becomes the validation set.\n",
        "val_data = data[n:]\n",
        "\n",
        "def get_batch(split):\n",
        "  data = train_data if split=='train' else val_data\n",
        "  #  generates batch_size random indices (ix) within the valid range of the data. The upper bound is len(data) - block_size\n",
        "  ix = torch.randint(len(data) - block_size, (batch_size,))\n",
        "  x = torch.stack([data[i:i+block_size] for i in ix])\n",
        "  y = torch.stack([data[i+1:i+block_size+1] for i in ix])\n",
        "  # x,y = x.to(device), y.to(device)\n",
        "  return x,y\n",
        "\n"
      ],
      "metadata": {
        "id": "3XelylbmZfCy"
      },
      "execution_count": null,
      "outputs": []
    },
    {
      "cell_type": "code",
      "source": [
        "@torch.no_grad()\n",
        "def estimate_loss():\n",
        "  out={}\n",
        "  model.eval()\n",
        "  for split in [\"train\", \"val\"]:\n",
        "    losses = torch.zeros(eval_iters)\n",
        "    for k in range(eval_iters):\n",
        "      X,Y= get_batch(split)\n",
        "      logits, loss = model(X,Y)\n",
        "      losses[k] = loss.item()\n",
        "    out[split] = losses.mean()\n",
        "    model.train()\n",
        "  return out"
      ],
      "metadata": {
        "id": "l4mUtXSNtEfZ"
      },
      "execution_count": null,
      "outputs": []
    },
    {
      "cell_type": "code",
      "source": [
        "class GPTLanguageModel(nn.Module):\n",
        "  def __init__(self,vocab_size):\n",
        "    super().__init__()\n",
        "    # Tokenized Inputs\n",
        "    self.token_embedding_table = nn.Embedding(vocab_size, n_embed)\n",
        "    # Embeddings + Pos Encoding\n",
        "    self.position_embedding_table = nn.Embedding(block_size, n_embed)\n",
        "    # Sequential NN with 4(n_layer) Decoder Layers\n",
        "    self.blocks = nn.Sequential(*[Block(n_embed, n_head=n_head) for _ in range(n_layer)])\n",
        "    # Normalization Layer\n",
        "    self.ln_f = nn.LayerNorm(n_embed)\n",
        "\n",
        "    self.lm_head = nn.Linear(n_embed, vocab_size)\n",
        "\n",
        "\n",
        "  def forward(self, index, targets=None):\n",
        "    logits = self.token_embedding_table(index)\n",
        "\n",
        "    if targets is None:\n",
        "      loss = None\n",
        "    else:\n",
        "      B,T,C = logits.shape\n",
        "      logits = logits.view(B*T,C)\n",
        "      targets = targets.view(B*T)\n",
        "      loss = F.cross_entropy(logits, targets)\n",
        "    return logits, loss\n",
        "\n",
        "  def generate(self, index, max_new_tokens):\n",
        "    # index is (B,T) array of indices in the current context\n",
        "    for _ in range(max_new_tokens):\n",
        "      # Generate predictions\n",
        "      logits, loss = self.forward(index)\n",
        "      # focus only on the last time step\n",
        "      logits = logits[:, -1, :] # becomes (B,C)\n",
        "      # apply softmax to get probabilities\n",
        "      probs = F.softmax(logits, dim=-1) # (B,C)\n",
        "      # sample from distribution\n",
        "      index_next = torch.multinomial(probs, num_samples=1) # (B,1)\n",
        "      # append sampled index to the running sequence\n",
        "      index = torch.cat((index, index_next), dim=1) # (B,T+1)\n",
        "    return index\n",
        "\n",
        "model = GPTLanguageModel(vocab_size)\n",
        "# m = model.to(device)\n",
        "\n",
        "\n",
        "\n",
        "\n"
      ],
      "metadata": {
        "id": "kGwbamS-_aeL"
      },
      "execution_count": null,
      "outputs": []
    },
    {
      "cell_type": "code",
      "source": [],
      "metadata": {
        "id": "a7fkpnLCgcUb"
      },
      "execution_count": null,
      "outputs": []
    },
    {
      "cell_type": "code",
      "source": [
        "# AdamW Optimizer\n",
        "optimizer = torch.optim.AdamW(model.parameters(), lr=learning_rate)\n",
        "\n",
        "for iter in range(max_iters):\n",
        "  if iter % eval_iters == 0:\n",
        "    losses = estimate_loss()\n",
        "    print(f\"step: {iter}, train_loss: {losses['train']:.6f}, validation_loss:{losses['val']:.6f}\")\n",
        "    # print(losses)\n",
        "  # sample a batch of data\n",
        "  xb, yb = get_batch('train')\n",
        "\n",
        "  # evaluate the loss\n",
        "  logits,loss = model.forward(xb,yb)\n",
        "  optimizer.zero_grad(set_to_none=True)\n",
        "  loss.backward()\n",
        "  optimizer.step()\n",
        "\n",
        "print(loss.item())\n",
        "\n"
      ],
      "metadata": {
        "colab": {
          "base_uri": "https://localhost:8080/"
        },
        "id": "B0N01NPMECB2",
        "outputId": "2377c2f2-8dc3-4724-93e7-4e823ae077e2"
      },
      "execution_count": null,
      "outputs": [
        {
          "output_type": "stream",
          "name": "stdout",
          "text": [
            "step: 0, train_loss: 3.227675, validation_loss:3.255366\n",
            "step: 250, train_loss: 3.018565, validation_loss:3.038089\n",
            "step: 500, train_loss: 2.847684, validation_loss:2.886240\n",
            "step: 750, train_loss: 2.754371, validation_loss:2.790671\n",
            "2.7137367725372314\n"
          ]
        }
      ]
    },
    {
      "cell_type": "code",
      "source": [],
      "metadata": {
        "id": "iFhFeiHEJs2l"
      },
      "execution_count": null,
      "outputs": []
    }
  ]
}